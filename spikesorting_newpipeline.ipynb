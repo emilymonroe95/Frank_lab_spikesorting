{
 "cells": [
  {
   "cell_type": "markdown",
   "metadata": {},
   "source": [
    "## NWB-Datajoint tutorial 1\n",
    "\n",
    "**Note: make a copy of this notebook and run the copy to avoid git conflicts in the future**\n",
    "\n",
    "This is the first in a multi-part tutorial on the NWB-Datajoint pipeline used in Loren Frank's lab, UCSF. It demonstrates how to run spike sorting within the pipeline.\n",
    "\n",
    "If you have not done [tutorial 0](0_intro.ipynb) yet, make sure to do so before proceeding.\n",
    "\n",
    "Let's start by importing the `nwb_datajoint` package, along with a few others. "
   ]
  },
  {
   "cell_type": "code",
   "execution_count": 60,
   "metadata": {},
   "outputs": [],
   "source": [
    "import os\n",
    "import numpy as np\n",
    "import datajoint as dj\n",
    "\n",
    "# dj.config['database.host'] = '127.0.0.1'\n",
    "# dj.config['database.user'] = 'root'\n",
    "# dj.config['database.password']= 'simple'"
   ]
  },
  {
   "cell_type": "code",
   "execution_count": 61,
   "metadata": {
    "tags": []
   },
   "outputs": [],
   "source": [
    "\n",
    "\n",
    "import nwb_datajoint as nd\n",
    "\n",
    "# ignore datajoint+jupyter async warnings\n",
    "import warnings\n",
    "warnings.simplefilter('ignore', category=DeprecationWarning)\n",
    "warnings.simplefilter('ignore', category=ResourceWarning)\n",
    "os.environ['NWB_DATAJOINT_TEMP_DIR']=\"/stelmo/nwb/tmp\"\n",
    "os.environ['KACHERY_STORAGE_DIR']=\"/stelmo/nwb/kachery-storage\"\n"
   ]
  },
  {
   "cell_type": "code",
   "execution_count": 62,
   "metadata": {},
   "outputs": [],
   "source": [
    "# import tables so that we can call them easily\n",
    "from nwb_datajoint.common import (RawPosition, HeadDir, Speed, LinPos, StateScriptFile, VideoFile,\n",
    "                                  DataAcquisitionDevice, CameraDevice, Probe,\n",
    "                                  DIOEvents,\n",
    "                                  ElectrodeGroup, Electrode, Raw, SampleCount,\n",
    "                                  LFPSelection, LFP, LFPBandSelection, LFPBand,\n",
    "                                  SortGroup, SpikeSortingFilterParameters, SpikeSortingArtifactDetectionParameters,\n",
    "                                  SpikeSortingRecordingSelection, SpikeSortingRecording, \n",
    "                                  SpikeSortingWorkspace, \n",
    "                                  SpikeSorter, SpikeSorterParameters, SortingID,\n",
    "                                  SpikeSortingSelection, SpikeSorting, \n",
    "                                  SpikeSortingMetricParameters,\n",
    "                                  ModifySortingParameters, ModifySortingSelection, ModifySorting, \n",
    "                                  AutomaticCurationParameters, AutomaticCurationSelection,\n",
    "                                  AutomaticCuration,\n",
    "                                  CuratedSpikeSortingSelection, CuratedSpikeSorting,\n",
    "                                  UnitInclusionParameters,\n",
    "                                  FirFilter,\n",
    "                                  IntervalList, SortInterval,\n",
    "                                  Lab, LabMember, LabTeam, Institution,\n",
    "                                  BrainRegion,\n",
    "                                  SensorData,\n",
    "                                  Session, ExperimenterList,\n",
    "                                  Subject,\n",
    "                                  Task, TaskEpoch,\n",
    "                                  Nwbfile, AnalysisNwbfile, NwbfileKachery, AnalysisNwbfileKachery)"
   ]
  },
  {
   "cell_type": "code",
   "execution_count": 63,
   "metadata": {
    "tags": []
   },
   "outputs": [],
   "source": [
    "nwb_file_name = 'despereaux20191125_.nwb'\n"
   ]
  },
  {
   "cell_type": "markdown",
   "metadata": {},
   "source": [
    "Set up the lab members and team information for this sort"
   ]
  },
  {
   "cell_type": "code",
   "execution_count": 64,
   "metadata": {},
   "outputs": [],
   "source": [
    "#Uncomment to set sort group\n",
    "#SortGroup().set_group_by_electrode_group(nwb_file_name)"
   ]
  },
  {
   "cell_type": "code",
   "execution_count": 65,
   "metadata": {
    "tags": []
   },
   "outputs": [
    {
     "data": {
      "text/html": [
       "\n",
       "    \n",
       "    <style type=\"text/css\">\n",
       "        .Relation{\n",
       "            border-collapse:collapse;\n",
       "        }\n",
       "        .Relation th{\n",
       "            background: #A0A0A0; color: #ffffff; padding:4px; border:#f0e0e0 1px solid;\n",
       "            font-weight: normal; font-family: monospace; font-size: 100%;\n",
       "        }\n",
       "        .Relation td{\n",
       "            padding:4px; border:#f0e0e0 1px solid; font-size:100%;\n",
       "        }\n",
       "        .Relation tr:nth-child(odd){\n",
       "            background: #ffffff;\n",
       "        }\n",
       "        .Relation tr:nth-child(even){\n",
       "            background: #f3f1ff;\n",
       "        }\n",
       "        /* Tooltip container */\n",
       "        .djtooltip {\n",
       "        }\n",
       "        /* Tooltip text */\n",
       "        .djtooltip .djtooltiptext {\n",
       "            visibility: hidden;\n",
       "            width: 120px;\n",
       "            background-color: black;\n",
       "            color: #fff;\n",
       "            text-align: center;\n",
       "            padding: 5px 0;\n",
       "            border-radius: 6px;\n",
       "            /* Position the tooltip text - see examples below! */\n",
       "            position: absolute;\n",
       "            z-index: 1;\n",
       "        }\n",
       "        #primary {\n",
       "            font-weight: bold;\n",
       "            color: black;\n",
       "        }\n",
       "        #nonprimary {\n",
       "            font-weight: normal;\n",
       "            color: white;\n",
       "        }\n",
       "\n",
       "        /* Show the tooltip text when you mouse over the tooltip container */\n",
       "        .djtooltip:hover .djtooltiptext {\n",
       "            visibility: visible;\n",
       "        }\n",
       "    </style>\n",
       "    \n",
       "    <b></b>\n",
       "        <div style=\"max-height:1000px;max-width:1500px;overflow:auto;\">\n",
       "        <table border=\"1\" class=\"Relation\">\n",
       "            <thead> <tr style=\"text-align: right;\"> <th> <div class=\"djtooltip\">\n",
       "                            <p id=\"primary\">nwb_file_name</p>\n",
       "                            <span class=\"djtooltiptext\">name of the NWB file</span>\n",
       "                        </div></th><th><div class=\"djtooltip\">\n",
       "                            <p id=\"primary\">sort_group_id</p>\n",
       "                            <span class=\"djtooltiptext\">identifier for a group of electrodes</span>\n",
       "                        </div></th><th><div class=\"djtooltip\">\n",
       "                            <p id=\"primary\">electrode_group_name</p>\n",
       "                            <span class=\"djtooltiptext\">electrode group name from NWBFile</span>\n",
       "                        </div></th><th><div class=\"djtooltip\">\n",
       "                            <p id=\"primary\">electrode_id</p>\n",
       "                            <span class=\"djtooltiptext\">the unique number for this electrode</span>\n",
       "                        </div> </th> </tr> </thead>\n",
       "            <tbody> <tr> <td>despereaux20191125_.nwb</td>\n",
       "<td>1</td>\n",
       "<td>1</td>\n",
       "<td>0</td></tr><tr><td>despereaux20191125_.nwb</td>\n",
       "<td>1</td>\n",
       "<td>1</td>\n",
       "<td>1</td></tr><tr><td>despereaux20191125_.nwb</td>\n",
       "<td>1</td>\n",
       "<td>1</td>\n",
       "<td>2</td></tr><tr><td>despereaux20191125_.nwb</td>\n",
       "<td>1</td>\n",
       "<td>1</td>\n",
       "<td>3</td></tr><tr><td>despereaux20191125_.nwb</td>\n",
       "<td>2</td>\n",
       "<td>2</td>\n",
       "<td>4</td></tr><tr><td>despereaux20191125_.nwb</td>\n",
       "<td>2</td>\n",
       "<td>2</td>\n",
       "<td>5</td></tr><tr><td>despereaux20191125_.nwb</td>\n",
       "<td>2</td>\n",
       "<td>2</td>\n",
       "<td>6</td></tr><tr><td>despereaux20191125_.nwb</td>\n",
       "<td>2</td>\n",
       "<td>2</td>\n",
       "<td>7</td></tr><tr><td>despereaux20191125_.nwb</td>\n",
       "<td>3</td>\n",
       "<td>3</td>\n",
       "<td>8</td></tr><tr><td>despereaux20191125_.nwb</td>\n",
       "<td>3</td>\n",
       "<td>3</td>\n",
       "<td>9</td></tr><tr><td>despereaux20191125_.nwb</td>\n",
       "<td>3</td>\n",
       "<td>3</td>\n",
       "<td>10</td></tr><tr><td>despereaux20191125_.nwb</td>\n",
       "<td>3</td>\n",
       "<td>3</td>\n",
       "<td>11</td> </tr> </tbody>\n",
       "        </table>\n",
       "        <p>...</p>\n",
       "        <p>Total: 120</p></div>\n",
       "        "
      ],
      "text/plain": [
       "*nwb_file_name *sort_group_id *electrode_gro *electrode_id \n",
       "+------------+ +------------+ +------------+ +------------+\n",
       "despereaux2019 1              1              0             \n",
       "despereaux2019 1              1              1             \n",
       "despereaux2019 1              1              2             \n",
       "despereaux2019 1              1              3             \n",
       "despereaux2019 2              2              4             \n",
       "despereaux2019 2              2              5             \n",
       "despereaux2019 2              2              6             \n",
       "despereaux2019 2              2              7             \n",
       "despereaux2019 3              3              8             \n",
       "despereaux2019 3              3              9             \n",
       "despereaux2019 3              3              10            \n",
       "despereaux2019 3              3              11            \n",
       "   ...\n",
       " (Total: 120)"
      ]
     },
     "execution_count": 65,
     "metadata": {},
     "output_type": "execute_result"
    }
   ],
   "source": [
    "SortGroup.SortGroupElectrode & {'nwb_file_name': nwb_file_name}"
   ]
  },
  {
   "cell_type": "markdown",
   "metadata": {
    "tags": []
   },
   "source": [
    "#### Define sort interval\n",
    "Next, we make a decision about the time interval for our spike sorting. Let's re-examine `IntervalList`."
   ]
  },
  {
   "cell_type": "code",
   "execution_count": 66,
   "metadata": {
    "tags": []
   },
   "outputs": [
    {
     "data": {
      "text/html": [
       "\n",
       "    \n",
       "    <style type=\"text/css\">\n",
       "        .Relation{\n",
       "            border-collapse:collapse;\n",
       "        }\n",
       "        .Relation th{\n",
       "            background: #A0A0A0; color: #ffffff; padding:4px; border:#f0e0e0 1px solid;\n",
       "            font-weight: normal; font-family: monospace; font-size: 100%;\n",
       "        }\n",
       "        .Relation td{\n",
       "            padding:4px; border:#f0e0e0 1px solid; font-size:100%;\n",
       "        }\n",
       "        .Relation tr:nth-child(odd){\n",
       "            background: #ffffff;\n",
       "        }\n",
       "        .Relation tr:nth-child(even){\n",
       "            background: #f3f1ff;\n",
       "        }\n",
       "        /* Tooltip container */\n",
       "        .djtooltip {\n",
       "        }\n",
       "        /* Tooltip text */\n",
       "        .djtooltip .djtooltiptext {\n",
       "            visibility: hidden;\n",
       "            width: 120px;\n",
       "            background-color: black;\n",
       "            color: #fff;\n",
       "            text-align: center;\n",
       "            padding: 5px 0;\n",
       "            border-radius: 6px;\n",
       "            /* Position the tooltip text - see examples below! */\n",
       "            position: absolute;\n",
       "            z-index: 1;\n",
       "        }\n",
       "        #primary {\n",
       "            font-weight: bold;\n",
       "            color: black;\n",
       "        }\n",
       "        #nonprimary {\n",
       "            font-weight: normal;\n",
       "            color: white;\n",
       "        }\n",
       "\n",
       "        /* Show the tooltip text when you mouse over the tooltip container */\n",
       "        .djtooltip:hover .djtooltiptext {\n",
       "            visibility: visible;\n",
       "        }\n",
       "    </style>\n",
       "    \n",
       "    <b>Time intervals with data</b>\n",
       "        <div style=\"max-height:1000px;max-width:1500px;overflow:auto;\">\n",
       "        <table border=\"1\" class=\"Relation\">\n",
       "            <thead> <tr style=\"text-align: right;\"> <th> <div class=\"djtooltip\">\n",
       "                            <p id=\"primary\">nwb_file_name</p>\n",
       "                            <span class=\"djtooltiptext\">name of the NWB file</span>\n",
       "                        </div></th><th><div class=\"djtooltip\">\n",
       "                            <p id=\"primary\">interval_list_name</p>\n",
       "                            <span class=\"djtooltiptext\">descriptive name of this interval list</span>\n",
       "                        </div></th><th><div class=\"djtooltip\">\n",
       "                            <p id=\"nonprimary\">valid_times</p>\n",
       "                            <span class=\"djtooltiptext\">numpy array with start and end times for each interval</span>\n",
       "                        </div> </th> </tr> </thead>\n",
       "            <tbody> <tr> <td>despereaux20191125_.nwb</td>\n",
       "<td>01_s1</td>\n",
       "<td>=BLOB=</td></tr><tr><td>despereaux20191125_.nwb</td>\n",
       "<td>02_r1</td>\n",
       "<td>=BLOB=</td></tr><tr><td>despereaux20191125_.nwb</td>\n",
       "<td>02_r1 lfp band 100Hz</td>\n",
       "<td>=BLOB=</td></tr><tr><td>despereaux20191125_.nwb</td>\n",
       "<td>03_s2</td>\n",
       "<td>=BLOB=</td></tr><tr><td>despereaux20191125_.nwb</td>\n",
       "<td>04_r2</td>\n",
       "<td>=BLOB=</td></tr><tr><td>despereaux20191125_.nwb</td>\n",
       "<td>04_r2 lfp band 100Hz</td>\n",
       "<td>=BLOB=</td></tr><tr><td>despereaux20191125_.nwb</td>\n",
       "<td>05_s3</td>\n",
       "<td>=BLOB=</td></tr><tr><td>despereaux20191125_.nwb</td>\n",
       "<td>06_r3</td>\n",
       "<td>=BLOB=</td></tr><tr><td>despereaux20191125_.nwb</td>\n",
       "<td>06_r3 lfp band 100Hz</td>\n",
       "<td>=BLOB=</td></tr><tr><td>despereaux20191125_.nwb</td>\n",
       "<td>07_s4</td>\n",
       "<td>=BLOB=</td></tr><tr><td>despereaux20191125_.nwb</td>\n",
       "<td>despereaux20191125_.nwb_test_2franklab_default_hippocampus_recording</td>\n",
       "<td>=BLOB=</td></tr><tr><td>despereaux20191125_.nwb</td>\n",
       "<td>lfp valid times</td>\n",
       "<td>=BLOB=</td> </tr> </tbody>\n",
       "        </table>\n",
       "        <p>...</p>\n",
       "        <p>Total: 20</p></div>\n",
       "        "
      ],
      "text/plain": [
       "*nwb_file_name *interval_list valid_time\n",
       "+------------+ +------------+ +--------+\n",
       "despereaux2019 01_s1          =BLOB=    \n",
       "despereaux2019 02_r1          =BLOB=    \n",
       "despereaux2019 02_r1 lfp band =BLOB=    \n",
       "despereaux2019 03_s2          =BLOB=    \n",
       "despereaux2019 04_r2          =BLOB=    \n",
       "despereaux2019 04_r2 lfp band =BLOB=    \n",
       "despereaux2019 05_s3          =BLOB=    \n",
       "despereaux2019 06_r3          =BLOB=    \n",
       "despereaux2019 06_r3 lfp band =BLOB=    \n",
       "despereaux2019 07_s4          =BLOB=    \n",
       "despereaux2019 despereaux2019 =BLOB=    \n",
       "despereaux2019 lfp valid time =BLOB=    \n",
       "   ...\n",
       " (Total: 20)"
      ]
     },
     "execution_count": 66,
     "metadata": {},
     "output_type": "execute_result"
    }
   ],
   "source": [
    "IntervalList & {'nwb_file_name' : nwb_file_name}"
   ]
  },
  {
   "cell_type": "markdown",
   "metadata": {},
   "source": [
    "For our example, let's choose the first 600 seconds of the first run interval (`02_r1`) as our sort interval. To do so, we first fetch `valid_times` of this interval, define our new sort interval, and add this to the `SortInterval` table."
   ]
  },
  {
   "cell_type": "code",
   "execution_count": 67,
   "metadata": {},
   "outputs": [],
   "source": [
    "interval_list_name = '02_r1'"
   ]
  },
  {
   "cell_type": "code",
   "execution_count": 68,
   "metadata": {},
   "outputs": [
    {
     "name": "stdout",
     "output_type": "stream",
     "text": [
      "[[1.57470781e+09 1.57471329e+09]]\n"
     ]
    }
   ],
   "source": [
    "interval_list = (IntervalList & {'nwb_file_name' : nwb_file_name,\n",
    "                            'interval_list_name' : interval_list_name}).fetch1('valid_times')\n",
    "print(interval_list)"
   ]
  },
  {
   "cell_type": "code",
   "execution_count": 69,
   "metadata": {},
   "outputs": [],
   "source": [
    "sort_interval = interval_list[0]\n",
    "sort_interval_name = interval_list_name\n",
    "sort_interval = np.copy(interval_list[0]) \n",
    "sort_interval[1] = sort_interval[0]+300\n",
    "sort_interval_name = 'test'"
   ]
  },
  {
   "cell_type": "code",
   "execution_count": 70,
   "metadata": {},
   "outputs": [
    {
     "data": {
      "text/html": [
       "\n",
       "    \n",
       "    <style type=\"text/css\">\n",
       "        .Relation{\n",
       "            border-collapse:collapse;\n",
       "        }\n",
       "        .Relation th{\n",
       "            background: #A0A0A0; color: #ffffff; padding:4px; border:#f0e0e0 1px solid;\n",
       "            font-weight: normal; font-family: monospace; font-size: 100%;\n",
       "        }\n",
       "        .Relation td{\n",
       "            padding:4px; border:#f0e0e0 1px solid; font-size:100%;\n",
       "        }\n",
       "        .Relation tr:nth-child(odd){\n",
       "            background: #ffffff;\n",
       "        }\n",
       "        .Relation tr:nth-child(even){\n",
       "            background: #f3f1ff;\n",
       "        }\n",
       "        /* Tooltip container */\n",
       "        .djtooltip {\n",
       "        }\n",
       "        /* Tooltip text */\n",
       "        .djtooltip .djtooltiptext {\n",
       "            visibility: hidden;\n",
       "            width: 120px;\n",
       "            background-color: black;\n",
       "            color: #fff;\n",
       "            text-align: center;\n",
       "            padding: 5px 0;\n",
       "            border-radius: 6px;\n",
       "            /* Position the tooltip text - see examples below! */\n",
       "            position: absolute;\n",
       "            z-index: 1;\n",
       "        }\n",
       "        #primary {\n",
       "            font-weight: bold;\n",
       "            color: black;\n",
       "        }\n",
       "        #nonprimary {\n",
       "            font-weight: normal;\n",
       "            color: white;\n",
       "        }\n",
       "\n",
       "        /* Show the tooltip text when you mouse over the tooltip container */\n",
       "        .djtooltip:hover .djtooltiptext {\n",
       "            visibility: visible;\n",
       "        }\n",
       "    </style>\n",
       "    \n",
       "    <b></b>\n",
       "        <div style=\"max-height:1000px;max-width:1500px;overflow:auto;\">\n",
       "        <table border=\"1\" class=\"Relation\">\n",
       "            <thead> <tr style=\"text-align: right;\"> <th> <div class=\"djtooltip\">\n",
       "                            <p id=\"primary\">nwb_file_name</p>\n",
       "                            <span class=\"djtooltiptext\">name of the NWB file</span>\n",
       "                        </div></th><th><div class=\"djtooltip\">\n",
       "                            <p id=\"primary\">sort_interval_name</p>\n",
       "                            <span class=\"djtooltiptext\">name for this interval</span>\n",
       "                        </div></th><th><div class=\"djtooltip\">\n",
       "                            <p id=\"nonprimary\">sort_interval</p>\n",
       "                            <span class=\"djtooltiptext\">1D numpy array with start and end time for a single interval to be used for spike sorting</span>\n",
       "                        </div> </th> </tr> </thead>\n",
       "            <tbody> <tr> <td>despereaux20191125_.nwb</td>\n",
       "<td>02_r1</td>\n",
       "<td>=BLOB=</td></tr><tr><td>despereaux20191125_.nwb</td>\n",
       "<td>test</td>\n",
       "<td>=BLOB=</td> </tr> </tbody>\n",
       "        </table>\n",
       "        \n",
       "        <p>Total: 2</p></div>\n",
       "        "
      ],
      "text/plain": [
       "*nwb_file_name *sort_interval sort_inter\n",
       "+------------+ +------------+ +--------+\n",
       "despereaux2019 02_r1          =BLOB=    \n",
       "despereaux2019 test           =BLOB=    \n",
       " (Total: 2)"
      ]
     },
     "execution_count": 70,
     "metadata": {},
     "output_type": "execute_result"
    }
   ],
   "source": [
    "# Check out SortInterval\n",
    "(SortInterval & {'nwb_file_name' : nwb_file_name})"
   ]
  },
  {
   "cell_type": "code",
   "execution_count": 71,
   "metadata": {},
   "outputs": [],
   "source": [
    "# Specify the required attributes.\n",
    "# This time, the entries take the form of a dictionary.\n",
    "#SortInterval.insert1({'nwb_file_name' : nwb_file_name,\n",
    "#                      'sort_interval_name' : sort_interval_name,\n",
    "#                      'sort_interval' : sort_interval}, replace=True)"
   ]
  },
  {
   "cell_type": "code",
   "execution_count": 72,
   "metadata": {
    "tags": []
   },
   "outputs": [
    {
     "data": {
      "text/html": [
       "\n",
       "    \n",
       "    <style type=\"text/css\">\n",
       "        .Relation{\n",
       "            border-collapse:collapse;\n",
       "        }\n",
       "        .Relation th{\n",
       "            background: #A0A0A0; color: #ffffff; padding:4px; border:#f0e0e0 1px solid;\n",
       "            font-weight: normal; font-family: monospace; font-size: 100%;\n",
       "        }\n",
       "        .Relation td{\n",
       "            padding:4px; border:#f0e0e0 1px solid; font-size:100%;\n",
       "        }\n",
       "        .Relation tr:nth-child(odd){\n",
       "            background: #ffffff;\n",
       "        }\n",
       "        .Relation tr:nth-child(even){\n",
       "            background: #f3f1ff;\n",
       "        }\n",
       "        /* Tooltip container */\n",
       "        .djtooltip {\n",
       "        }\n",
       "        /* Tooltip text */\n",
       "        .djtooltip .djtooltiptext {\n",
       "            visibility: hidden;\n",
       "            width: 120px;\n",
       "            background-color: black;\n",
       "            color: #fff;\n",
       "            text-align: center;\n",
       "            padding: 5px 0;\n",
       "            border-radius: 6px;\n",
       "            /* Position the tooltip text - see examples below! */\n",
       "            position: absolute;\n",
       "            z-index: 1;\n",
       "        }\n",
       "        #primary {\n",
       "            font-weight: bold;\n",
       "            color: black;\n",
       "        }\n",
       "        #nonprimary {\n",
       "            font-weight: normal;\n",
       "            color: white;\n",
       "        }\n",
       "\n",
       "        /* Show the tooltip text when you mouse over the tooltip container */\n",
       "        .djtooltip:hover .djtooltiptext {\n",
       "            visibility: visible;\n",
       "        }\n",
       "    </style>\n",
       "    \n",
       "    <b></b>\n",
       "        <div style=\"max-height:1000px;max-width:1500px;overflow:auto;\">\n",
       "        <table border=\"1\" class=\"Relation\">\n",
       "            <thead> <tr style=\"text-align: right;\"> <th> <div class=\"djtooltip\">\n",
       "                            <p id=\"primary\">nwb_file_name</p>\n",
       "                            <span class=\"djtooltiptext\">name of the NWB file</span>\n",
       "                        </div></th><th><div class=\"djtooltip\">\n",
       "                            <p id=\"primary\">sort_interval_name</p>\n",
       "                            <span class=\"djtooltiptext\">name for this interval</span>\n",
       "                        </div></th><th><div class=\"djtooltip\">\n",
       "                            <p id=\"nonprimary\">sort_interval</p>\n",
       "                            <span class=\"djtooltiptext\">1D numpy array with start and end time for a single interval to be used for spike sorting</span>\n",
       "                        </div> </th> </tr> </thead>\n",
       "            <tbody> <tr> <td>despereaux20191125_.nwb</td>\n",
       "<td>test</td>\n",
       "<td>=BLOB=</td> </tr> </tbody>\n",
       "        </table>\n",
       "        \n",
       "        <p>Total: 1</p></div>\n",
       "        "
      ],
      "text/plain": [
       "*nwb_file_name *sort_interval sort_inter\n",
       "+------------+ +------------+ +--------+\n",
       "despereaux2019 test           =BLOB=    \n",
       " (Total: 1)"
      ]
     },
     "execution_count": 72,
     "metadata": {},
     "output_type": "execute_result"
    }
   ],
   "source": [
    "# See results\n",
    "SortInterval & {'nwb_file_name' : nwb_file_name, 'sort_interval_name': sort_interval_name}"
   ]
  },
  {
   "cell_type": "markdown",
   "metadata": {},
   "source": [
    "Now set the filtering parameters. Here we insert the default parameters and a new set of filtering parameters for hippocampal data\n",
    "|"
   ]
  },
  {
   "cell_type": "code",
   "execution_count": 73,
   "metadata": {},
   "outputs": [],
   "source": [
    "SpikeSortingFilterParameters().insert_default()\n",
    "filter_param_dict = SpikeSortingFilterParameters.fetch('filter_parameter_dict')\n",
    "filter_param_dict = filter_param_dict[0]"
   ]
  },
  {
   "cell_type": "code",
   "execution_count": 74,
   "metadata": {},
   "outputs": [],
   "source": [
    "filter_param_dict['frequency_min'] = 600\n",
    "SpikeSortingFilterParameters().insert1({'filter_parameter_set_name': 'franklab_default_hippocampus', \n",
    "                                       'filter_parameter_dict' : filter_param_dict}, skip_duplicates=True)"
   ]
  },
  {
   "cell_type": "markdown",
   "metadata": {},
   "source": [
    "Similarly, we set up the SpikeSortingArtifactParameters which can allow us to remove artifacts from the data\n",
    "For the moment we just set up a \"none\" parameter set which will do nothing when used"
   ]
  },
  {
   "cell_type": "code",
   "execution_count": 75,
   "metadata": {},
   "outputs": [],
   "source": [
    "SpikeSortingArtifactDetectionParameters().insert_default()"
   ]
  },
  {
   "cell_type": "markdown",
   "metadata": {},
   "source": [
    "Now we set up the recording parameters so we can get the recording extractor"
   ]
  },
  {
   "cell_type": "code",
   "execution_count": 76,
   "metadata": {},
   "outputs": [],
   "source": [
    "sort_group_id = 2 # use sort group 2\n",
    "sort_interval_name = 'test'\n",
    "filter_param_name = 'franklab_default_hippocampus'\n",
    "artifact_param_name = 'none'\n",
    "interval_list = '02_r1'\n",
    "lab_team = 'Loren Frank'"
   ]
  },
  {
   "cell_type": "code",
   "execution_count": 77,
   "metadata": {},
   "outputs": [],
   "source": [
    "# collect the params\n",
    "key = dict()\n",
    "key['nwb_file_name'] = nwb_file_name\n",
    "key['sort_group_id'] = sort_group_id\n",
    "key['filter_parameter_set_name'] = filter_param_name\n",
    "key['sort_interval_name'] = sort_interval_name\n",
    "key['artifact_parameter_name'] = artifact_param_name\n",
    "key['interval_list_name'] = interval_list\n",
    "key['team_name'] = 'Loren Frank'\n",
    "\n",
    "ssr_key = key"
   ]
  },
  {
   "cell_type": "code",
   "execution_count": 113,
   "metadata": {},
   "outputs": [
    {
     "data": {
      "text/html": [
       "\n",
       "    \n",
       "    <style type=\"text/css\">\n",
       "        .Relation{\n",
       "            border-collapse:collapse;\n",
       "        }\n",
       "        .Relation th{\n",
       "            background: #A0A0A0; color: #ffffff; padding:4px; border:#f0e0e0 1px solid;\n",
       "            font-weight: normal; font-family: monospace; font-size: 100%;\n",
       "        }\n",
       "        .Relation td{\n",
       "            padding:4px; border:#f0e0e0 1px solid; font-size:100%;\n",
       "        }\n",
       "        .Relation tr:nth-child(odd){\n",
       "            background: #ffffff;\n",
       "        }\n",
       "        .Relation tr:nth-child(even){\n",
       "            background: #f3f1ff;\n",
       "        }\n",
       "        /* Tooltip container */\n",
       "        .djtooltip {\n",
       "        }\n",
       "        /* Tooltip text */\n",
       "        .djtooltip .djtooltiptext {\n",
       "            visibility: hidden;\n",
       "            width: 120px;\n",
       "            background-color: black;\n",
       "            color: #fff;\n",
       "            text-align: center;\n",
       "            padding: 5px 0;\n",
       "            border-radius: 6px;\n",
       "            /* Position the tooltip text - see examples below! */\n",
       "            position: absolute;\n",
       "            z-index: 1;\n",
       "        }\n",
       "        #primary {\n",
       "            font-weight: bold;\n",
       "            color: black;\n",
       "        }\n",
       "        #nonprimary {\n",
       "            font-weight: normal;\n",
       "            color: white;\n",
       "        }\n",
       "\n",
       "        /* Show the tooltip text when you mouse over the tooltip container */\n",
       "        .djtooltip:hover .djtooltiptext {\n",
       "            visibility: visible;\n",
       "        }\n",
       "    </style>\n",
       "    \n",
       "    <b>Table for holding parameters for each recording that will be spikesorted</b>\n",
       "        <div style=\"max-height:1000px;max-width:1500px;overflow:auto;\">\n",
       "        <table border=\"1\" class=\"Relation\">\n",
       "            <thead> <tr style=\"text-align: right;\"> <th> <div class=\"djtooltip\">\n",
       "                            <p id=\"primary\">nwb_file_name</p>\n",
       "                            <span class=\"djtooltiptext\">name of the NWB file</span>\n",
       "                        </div></th><th><div class=\"djtooltip\">\n",
       "                            <p id=\"primary\">sort_group_id</p>\n",
       "                            <span class=\"djtooltiptext\">identifier for a group of electrodes</span>\n",
       "                        </div></th><th><div class=\"djtooltip\">\n",
       "                            <p id=\"primary\">sort_interval_name</p>\n",
       "                            <span class=\"djtooltiptext\">name for this interval</span>\n",
       "                        </div></th><th><div class=\"djtooltip\">\n",
       "                            <p id=\"primary\">filter_parameter_set_name</p>\n",
       "                            <span class=\"djtooltiptext\"></span>\n",
       "                        </div></th><th><div class=\"djtooltip\">\n",
       "                            <p id=\"nonprimary\">artifact_parameter_name</p>\n",
       "                            <span class=\"djtooltiptext\">name for this set of parameters</span>\n",
       "                        </div></th><th><div class=\"djtooltip\">\n",
       "                            <p id=\"nonprimary\">interval_list_name</p>\n",
       "                            <span class=\"djtooltiptext\">descriptive name of this interval list</span>\n",
       "                        </div></th><th><div class=\"djtooltip\">\n",
       "                            <p id=\"nonprimary\">team_name</p>\n",
       "                            <span class=\"djtooltiptext\"></span>\n",
       "                        </div> </th> </tr> </thead>\n",
       "            <tbody> <tr> <td>despereaux20191125_.nwb</td>\n",
       "<td>2</td>\n",
       "<td>test</td>\n",
       "<td>franklab_default_hippocampus</td>\n",
       "<td>none</td>\n",
       "<td>02_r1</td>\n",
       "<td>Loren Frank</td> </tr> </tbody>\n",
       "        </table>\n",
       "        \n",
       "        <p>Total: 1</p></div>\n",
       "        "
      ],
      "text/plain": [
       "*nwb_file_name *sort_group_id *sort_interval *filter_parame artifact_param interval_list_ team_name     \n",
       "+------------+ +------------+ +------------+ +------------+ +------------+ +------------+ +------------+\n",
       "despereaux2019 2              test           franklab_defau none           02_r1          Loren Frank   \n",
       " (Total: 1)"
      ]
     },
     "execution_count": 113,
     "metadata": {},
     "output_type": "execute_result"
    }
   ],
   "source": [
    "SpikeSortingRecordingSelection()"
   ]
  },
  {
   "cell_type": "code",
   "execution_count": 79,
   "metadata": {},
   "outputs": [],
   "source": [
    "SpikeSortingRecordingSelection.insert1(key, skip_duplicates=True)"
   ]
  },
  {
   "cell_type": "code",
   "execution_count": 80,
   "metadata": {},
   "outputs": [
    {
     "name": "stdout",
     "output_type": "stream",
     "text": [
      "Elapsed time for filtered recording extractor setup: 4.286241769790649 sec\n",
      "Elapsed time for NWB recording extractor create from file: 14.257794618606567 sec\n",
      "Elapsed time for getting filtered recording extractor: 30.935449838638306 sec\n",
      "Creating efficient recording: storing link in kachery...\n",
      "Done creating efficient recording.\n",
      "Elapsed time for writing filtered h5 recording extractor to /stelmo/nwb/spikesorting/despereaux20191125_.nwb/despereaux20191125_.nwb_test_2_franklab_default_hippocampus_recording.h5v1: 15.313714742660522 sec\n"
     ]
    }
   ],
   "source": [
    "SpikeSortingRecording.populate()"
   ]
  },
  {
   "cell_type": "markdown",
   "metadata": {},
   "source": [
    "Now we need to populate the SpikeSortingWorkspace table to make this recording available via kachery"
   ]
  },
  {
   "cell_type": "code",
   "execution_count": 81,
   "metadata": {},
   "outputs": [
    {
     "data": {
      "text/html": [
       "\n",
       "    \n",
       "    <style type=\"text/css\">\n",
       "        .Relation{\n",
       "            border-collapse:collapse;\n",
       "        }\n",
       "        .Relation th{\n",
       "            background: #A0A0A0; color: #ffffff; padding:4px; border:#f0e0e0 1px solid;\n",
       "            font-weight: normal; font-family: monospace; font-size: 100%;\n",
       "        }\n",
       "        .Relation td{\n",
       "            padding:4px; border:#f0e0e0 1px solid; font-size:100%;\n",
       "        }\n",
       "        .Relation tr:nth-child(odd){\n",
       "            background: #ffffff;\n",
       "        }\n",
       "        .Relation tr:nth-child(even){\n",
       "            background: #f3f1ff;\n",
       "        }\n",
       "        /* Tooltip container */\n",
       "        .djtooltip {\n",
       "        }\n",
       "        /* Tooltip text */\n",
       "        .djtooltip .djtooltiptext {\n",
       "            visibility: hidden;\n",
       "            width: 120px;\n",
       "            background-color: black;\n",
       "            color: #fff;\n",
       "            text-align: center;\n",
       "            padding: 5px 0;\n",
       "            border-radius: 6px;\n",
       "            /* Position the tooltip text - see examples below! */\n",
       "            position: absolute;\n",
       "            z-index: 1;\n",
       "        }\n",
       "        #primary {\n",
       "            font-weight: bold;\n",
       "            color: black;\n",
       "        }\n",
       "        #nonprimary {\n",
       "            font-weight: normal;\n",
       "            color: white;\n",
       "        }\n",
       "\n",
       "        /* Show the tooltip text when you mouse over the tooltip container */\n",
       "        .djtooltip:hover .djtooltiptext {\n",
       "            visibility: visible;\n",
       "        }\n",
       "    </style>\n",
       "    \n",
       "    <b>Schema for storing recording extractors</b>\n",
       "        <div style=\"max-height:1000px;max-width:1500px;overflow:auto;\">\n",
       "        <table border=\"1\" class=\"Relation\">\n",
       "            <thead> <tr style=\"text-align: right;\"> <th> <div class=\"djtooltip\">\n",
       "                            <p id=\"primary\">nwb_file_name</p>\n",
       "                            <span class=\"djtooltiptext\">name of the NWB file</span>\n",
       "                        </div></th><th><div class=\"djtooltip\">\n",
       "                            <p id=\"primary\">sort_group_id</p>\n",
       "                            <span class=\"djtooltiptext\">identifier for a group of electrodes</span>\n",
       "                        </div></th><th><div class=\"djtooltip\">\n",
       "                            <p id=\"primary\">sort_interval_name</p>\n",
       "                            <span class=\"djtooltiptext\">name for this interval</span>\n",
       "                        </div></th><th><div class=\"djtooltip\">\n",
       "                            <p id=\"primary\">filter_parameter_set_name</p>\n",
       "                            <span class=\"djtooltiptext\"></span>\n",
       "                        </div></th><th><div class=\"djtooltip\">\n",
       "                            <p id=\"nonprimary\">sort_interval_list_name</p>\n",
       "                            <span class=\"djtooltiptext\">descriptive name of this interval list</span>\n",
       "                        </div></th><th><div class=\"djtooltip\">\n",
       "                            <p id=\"nonprimary\">recording_extractor_path</p>\n",
       "                            <span class=\"djtooltiptext\"></span>\n",
       "                        </div></th><th><div class=\"djtooltip\">\n",
       "                            <p id=\"nonprimary\">recording_extractor_object</p>\n",
       "                            <span class=\"djtooltiptext\">the dictionary that allows kachery to retrieve the extractor</span>\n",
       "                        </div> </th> </tr> </thead>\n",
       "            <tbody> <tr> <td>despereaux20191125_.nwb</td>\n",
       "<td>2</td>\n",
       "<td>test</td>\n",
       "<td>franklab_default_hippocampus</td>\n",
       "<td>despereaux20191125_.nwb_test_2franklab_default_hippocampus_recording</td>\n",
       "<td>/stelmo/nwb/spikesorting/despereaux20191125_.nwb/despereaux20191125_.nwb_test_2_franklab_default_hippocampus_recording.h5v1</td>\n",
       "<td>=BLOB=</td> </tr> </tbody>\n",
       "        </table>\n",
       "        \n",
       "        <p>Total: 1</p></div>\n",
       "        "
      ],
      "text/plain": [
       "*nwb_file_name *sort_group_id *sort_interval *filter_parame sort_interval_ recording_extr recording_\n",
       "+------------+ +------------+ +------------+ +------------+ +------------+ +------------+ +--------+\n",
       "despereaux2019 2              test           franklab_defau despereaux2019 /stelmo/nwb/sp =BLOB=    \n",
       " (Total: 1)"
      ]
     },
     "execution_count": 81,
     "metadata": {},
     "output_type": "execute_result"
    }
   ],
   "source": [
    "SpikeSortingRecording()"
   ]
  },
  {
   "cell_type": "code",
   "execution_count": 82,
   "metadata": {
    "tags": []
   },
   "outputs": [
    {
     "name": "stdout",
     "output_type": "stream",
     "text": [
      "Cannot remove sorting. Sorting not found: S-b7cb9bac4f42\n",
      "Adding recording: R-2a816b04e6b8\n",
      "Permissions for lmfrnk@gmail.com set to: {'edit': True}\n"
     ]
    }
   ],
   "source": [
    "SpikeSortingWorkspace.populate()\n"
   ]
  },
  {
   "cell_type": "markdown",
   "metadata": {},
   "source": [
    "For our example, we will be using `mountainsort4`."
   ]
  },
  {
   "cell_type": "code",
   "execution_count": 83,
   "metadata": {},
   "outputs": [],
   "source": [
    "#SpikeSortingWorkspace().url(key)"
   ]
  },
  {
   "cell_type": "code",
   "execution_count": 84,
   "metadata": {
    "jupyter": {
     "source_hidden": true
    },
    "tags": []
   },
   "outputs": [],
   "source": [
    "SpikeSorter().insert_from_spikeinterface()\n",
    "SpikeSorterParameters().insert_from_spikeinterface()"
   ]
  },
  {
   "cell_type": "code",
   "execution_count": 85,
   "metadata": {},
   "outputs": [],
   "source": [
    "sorter_name='mountainsort4'"
   ]
  },
  {
   "cell_type": "code",
   "execution_count": 86,
   "metadata": {},
   "outputs": [
    {
     "name": "stdout",
     "output_type": "stream",
     "text": [
      "{'sorter_name': 'mountainsort4', 'spikesorter_parameter_set_name': 'default', 'parameter_dict': {'detect_sign': -1, 'adjacency_radius': -1, 'freq_min': 300, 'freq_max': 6000, 'filter': True, 'whiten': True, 'curation': False, 'num_workers': None, 'clip_size': 50, 'detect_threshold': 3, 'detect_interval': 10, 'noise_overlap_threshold': 0.15}}\n"
     ]
    }
   ],
   "source": [
    "# Let's look at the default params\n",
    "ms4_default_params = (SpikeSorterParameters & {'sorter_name' : sorter_name,\n",
    "                                               'spikesorter_parameter_set_name' : 'default'}).fetch1()\n",
    "print(ms4_default_params)"
   ]
  },
  {
   "cell_type": "code",
   "execution_count": 87,
   "metadata": {
    "tags": []
   },
   "outputs": [],
   "source": [
    "# Change the default params\n",
    "param_dict = ms4_default_params['parameter_dict']\n",
    "# Detect upward downward going spikes\n",
    "param_dict['detect_sign'] = -1 \n",
    "#We will sort electrodes together that are within 100 microns of each other\n",
    "param_dict['adjacency_radius'] = 100\n",
    "param_dict['curation'] = False\n",
    "# Turn filter off since we will filter it prior to starting sort\n",
    "param_dict['filter'] = False\n",
    "param_dict['freq_min'] = 0\n",
    "param_dict['freq_max'] = 0\n",
    "# Turn whiten off since we will whiten it prior to starting sort\n",
    "param_dict['whiten'] = False\n",
    "# set num_workers to be the same number as the number of electrodes\n",
    "param_dict['num_workers'] = 4\n",
    "param_dict['verbose'] = True\n",
    "# set clip size as number of samples for 1.33 millisecond\n",
    "param_dict['clip_size'] = np.int(1.33e-3 * (Raw & {'nwb_file_name' : nwb_file_name}).fetch1('sampling_rate'))\n",
    "param_dict['noise_overlap_threshold'] = 0\n",
    "\n"
   ]
  },
  {
   "cell_type": "code",
   "execution_count": 88,
   "metadata": {},
   "outputs": [
    {
     "data": {
      "text/plain": [
       "{'detect_sign': -1,\n",
       " 'adjacency_radius': 100,\n",
       " 'freq_min': 0,\n",
       " 'freq_max': 0,\n",
       " 'filter': False,\n",
       " 'whiten': False,\n",
       " 'curation': False,\n",
       " 'num_workers': 4,\n",
       " 'clip_size': 39,\n",
       " 'detect_threshold': 3,\n",
       " 'detect_interval': 10,\n",
       " 'noise_overlap_threshold': 0,\n",
       " 'verbose': True}"
      ]
     },
     "execution_count": 88,
     "metadata": {},
     "output_type": "execute_result"
    }
   ],
   "source": [
    "param_dict"
   ]
  },
  {
   "cell_type": "code",
   "execution_count": 89,
   "metadata": {
    "tags": []
   },
   "outputs": [
    {
     "data": {
      "text/html": [
       "\n",
       "    \n",
       "    <style type=\"text/css\">\n",
       "        .Relation{\n",
       "            border-collapse:collapse;\n",
       "        }\n",
       "        .Relation th{\n",
       "            background: #A0A0A0; color: #ffffff; padding:4px; border:#f0e0e0 1px solid;\n",
       "            font-weight: normal; font-family: monospace; font-size: 100%;\n",
       "        }\n",
       "        .Relation td{\n",
       "            padding:4px; border:#f0e0e0 1px solid; font-size:100%;\n",
       "        }\n",
       "        .Relation tr:nth-child(odd){\n",
       "            background: #ffffff;\n",
       "        }\n",
       "        .Relation tr:nth-child(even){\n",
       "            background: #f3f1ff;\n",
       "        }\n",
       "        /* Tooltip container */\n",
       "        .djtooltip {\n",
       "        }\n",
       "        /* Tooltip text */\n",
       "        .djtooltip .djtooltiptext {\n",
       "            visibility: hidden;\n",
       "            width: 120px;\n",
       "            background-color: black;\n",
       "            color: #fff;\n",
       "            text-align: center;\n",
       "            padding: 5px 0;\n",
       "            border-radius: 6px;\n",
       "            /* Position the tooltip text - see examples below! */\n",
       "            position: absolute;\n",
       "            z-index: 1;\n",
       "        }\n",
       "        #primary {\n",
       "            font-weight: bold;\n",
       "            color: black;\n",
       "        }\n",
       "        #nonprimary {\n",
       "            font-weight: normal;\n",
       "            color: white;\n",
       "        }\n",
       "\n",
       "        /* Show the tooltip text when you mouse over the tooltip container */\n",
       "        .djtooltip:hover .djtooltiptext {\n",
       "            visibility: visible;\n",
       "        }\n",
       "    </style>\n",
       "    \n",
       "    <b></b>\n",
       "        <div style=\"max-height:1000px;max-width:1500px;overflow:auto;\">\n",
       "        <table border=\"1\" class=\"Relation\">\n",
       "            <thead> <tr style=\"text-align: right;\"> <th> <div class=\"djtooltip\">\n",
       "                            <p id=\"primary\">sorter_name</p>\n",
       "                            <span class=\"djtooltiptext\">the name of the spike sorting algorithm</span>\n",
       "                        </div></th><th><div class=\"djtooltip\">\n",
       "                            <p id=\"primary\">spikesorter_parameter_set_name</p>\n",
       "                            <span class=\"djtooltiptext\">label for this set of parameters</span>\n",
       "                        </div></th><th><div class=\"djtooltip\">\n",
       "                            <p id=\"nonprimary\">parameter_dict</p>\n",
       "                            <span class=\"djtooltiptext\">dictionary of parameter names and values</span>\n",
       "                        </div> </th> </tr> </thead>\n",
       "            <tbody> <tr> <td>combinato</td>\n",
       "<td>default</td>\n",
       "<td>=BLOB=</td></tr><tr><td>hdsort</td>\n",
       "<td>default</td>\n",
       "<td>=BLOB=</td></tr><tr><td>herdingspikes</td>\n",
       "<td>default</td>\n",
       "<td>=BLOB=</td></tr><tr><td>ironclust</td>\n",
       "<td>default</td>\n",
       "<td>=BLOB=</td></tr><tr><td>kilosort</td>\n",
       "<td>default</td>\n",
       "<td>=BLOB=</td></tr><tr><td>kilosort2</td>\n",
       "<td>default</td>\n",
       "<td>=BLOB=</td></tr><tr><td>kilosort2_5</td>\n",
       "<td>default</td>\n",
       "<td>=BLOB=</td></tr><tr><td>kilosort3</td>\n",
       "<td>default</td>\n",
       "<td>=BLOB=</td></tr><tr><td>klusta</td>\n",
       "<td>default</td>\n",
       "<td>=BLOB=</td></tr><tr><td>mountainsort4</td>\n",
       "<td>default</td>\n",
       "<td>=BLOB=</td></tr><tr><td>mountainsort4</td>\n",
       "<td>franklab_tetrode_hippocampus_30KHz</td>\n",
       "<td>=BLOB=</td></tr><tr><td>spykingcircus</td>\n",
       "<td>default</td>\n",
       "<td>=BLOB=</td> </tr> </tbody>\n",
       "        </table>\n",
       "        <p>...</p>\n",
       "        <p>Total: 15</p></div>\n",
       "        "
      ],
      "text/plain": [
       "*sorter_name   *spikesorter_p parameter_\n",
       "+------------+ +------------+ +--------+\n",
       "combinato      default        =BLOB=    \n",
       "hdsort         default        =BLOB=    \n",
       "herdingspikes  default        =BLOB=    \n",
       "ironclust      default        =BLOB=    \n",
       "kilosort       default        =BLOB=    \n",
       "kilosort2      default        =BLOB=    \n",
       "kilosort2_5    default        =BLOB=    \n",
       "kilosort3      default        =BLOB=    \n",
       "klusta         default        =BLOB=    \n",
       "mountainsort4  default        =BLOB=    \n",
       "mountainsort4  franklab_tetro =BLOB=    \n",
       "spykingcircus  default        =BLOB=    \n",
       "   ...\n",
       " (Total: 15)"
      ]
     },
     "execution_count": 89,
     "metadata": {},
     "output_type": "execute_result"
    }
   ],
   "source": [
    "# Give a unique name here\n",
    "parameter_set_name = 'franklab_tetrode_hippocampus_30KHz'\n",
    "SpikeSorterParameters()"
   ]
  },
  {
   "cell_type": "code",
   "execution_count": 90,
   "metadata": {
    "tags": []
   },
   "outputs": [],
   "source": [
    "# Insert\n",
    "SpikeSorterParameters.insert1({'sorter_name': sorter_name,\n",
    "                               'spikesorter_parameter_set_name': parameter_set_name,\n",
    "                               'parameter_dict': param_dict}, skip_duplicates=True)"
   ]
  },
  {
   "cell_type": "code",
   "execution_count": 91,
   "metadata": {
    "tags": []
   },
   "outputs": [
    {
     "data": {
      "text/plain": [
       "array([('mountainsort4', 'default', {'detect_sign': -1, 'adjacency_radius': -1, 'freq_min': 300, 'freq_max': 6000, 'filter': True, 'whiten': True, 'curation': False, 'num_workers': None, 'clip_size': 50, 'detect_threshold': 3, 'detect_interval': 10, 'noise_overlap_threshold': 0.15}),\n",
       "       ('mountainsort4', 'franklab_tetrode_hippocampus_30KHz', {'detect_sign': -1, 'adjacency_radius': 100, 'freq_min': 0, 'freq_max': 0, 'filter': False, 'whiten': False, 'curation': False, 'num_workers': 4, 'clip_size': 39, 'detect_threshold': 3, 'detect_interval': 10, 'noise_overlap_threshold': 0, 'verbose': True})],\n",
       "      dtype=[('sorter_name', 'O'), ('spikesorter_parameter_set_name', 'O'), ('parameter_dict', 'O')])"
      ]
     },
     "execution_count": 91,
     "metadata": {},
     "output_type": "execute_result"
    }
   ],
   "source": [
    "# Check that insert was successful\n",
    "#p = (SpikeSorterParameters & {'sorter_name': sorter_name, 'parameter_set_name': parameter_set_name}).fetch1()\n",
    "p = (SpikeSorterParameters & {'sorter_name': sorter_name}).fetch()\n",
    "p"
   ]
  },
  {
   "cell_type": "markdown",
   "metadata": {},
   "source": [
    "#### Bringing everything together\n",
    "\n",
    "We now collect all the decisions we made up to here and put it into `SpikeSortingSelection` table (note: this is different from spike sor*ter* parameters defined above)."
   ]
  },
  {
   "cell_type": "code",
   "execution_count": 92,
   "metadata": {},
   "outputs": [],
   "source": [
    "key = (SpikeSortingWorkspace & ssr_key).fetch1(\"KEY\")\n",
    "key['sorter_name'] = sorter_name\n",
    "key['spikesorter_parameter_set_name'] = 'franklab_tetrode_hippocampus_30KHz'\n",
    "ss_key = key"
   ]
  },
  {
   "cell_type": "code",
   "execution_count": 93,
   "metadata": {
    "tags": []
   },
   "outputs": [],
   "source": [
    "# insert\n",
    "SpikeSortingSelection.insert1(key, skip_duplicates=True)"
   ]
  },
  {
   "cell_type": "code",
   "execution_count": 94,
   "metadata": {},
   "outputs": [],
   "source": [
    "#(SpikeSortingParameters & {'nwb_file_name' : nwb_file_name, 'sort_interval_name' : sort_interval_name}).delete()"
   ]
  },
  {
   "cell_type": "code",
   "execution_count": 95,
   "metadata": {
    "tags": []
   },
   "outputs": [
    {
     "data": {
      "text/html": [
       "\n",
       "    \n",
       "    <style type=\"text/css\">\n",
       "        .Relation{\n",
       "            border-collapse:collapse;\n",
       "        }\n",
       "        .Relation th{\n",
       "            background: #A0A0A0; color: #ffffff; padding:4px; border:#f0e0e0 1px solid;\n",
       "            font-weight: normal; font-family: monospace; font-size: 100%;\n",
       "        }\n",
       "        .Relation td{\n",
       "            padding:4px; border:#f0e0e0 1px solid; font-size:100%;\n",
       "        }\n",
       "        .Relation tr:nth-child(odd){\n",
       "            background: #ffffff;\n",
       "        }\n",
       "        .Relation tr:nth-child(even){\n",
       "            background: #f3f1ff;\n",
       "        }\n",
       "        /* Tooltip container */\n",
       "        .djtooltip {\n",
       "        }\n",
       "        /* Tooltip text */\n",
       "        .djtooltip .djtooltiptext {\n",
       "            visibility: hidden;\n",
       "            width: 120px;\n",
       "            background-color: black;\n",
       "            color: #fff;\n",
       "            text-align: center;\n",
       "            padding: 5px 0;\n",
       "            border-radius: 6px;\n",
       "            /* Position the tooltip text - see examples below! */\n",
       "            position: absolute;\n",
       "            z-index: 1;\n",
       "        }\n",
       "        #primary {\n",
       "            font-weight: bold;\n",
       "            color: black;\n",
       "        }\n",
       "        #nonprimary {\n",
       "            font-weight: normal;\n",
       "            color: white;\n",
       "        }\n",
       "\n",
       "        /* Show the tooltip text when you mouse over the tooltip container */\n",
       "        .djtooltip:hover .djtooltiptext {\n",
       "            visibility: visible;\n",
       "        }\n",
       "    </style>\n",
       "    \n",
       "    <b>Table for holding selection of recording and parameters for each spike sorting run</b>\n",
       "        <div style=\"max-height:1000px;max-width:1500px;overflow:auto;\">\n",
       "        <table border=\"1\" class=\"Relation\">\n",
       "            <thead> <tr style=\"text-align: right;\"> <th> <div class=\"djtooltip\">\n",
       "                            <p id=\"primary\">nwb_file_name</p>\n",
       "                            <span class=\"djtooltiptext\">name of the NWB file</span>\n",
       "                        </div></th><th><div class=\"djtooltip\">\n",
       "                            <p id=\"primary\">sort_group_id</p>\n",
       "                            <span class=\"djtooltiptext\">identifier for a group of electrodes</span>\n",
       "                        </div></th><th><div class=\"djtooltip\">\n",
       "                            <p id=\"primary\">sort_interval_name</p>\n",
       "                            <span class=\"djtooltiptext\">name for this interval</span>\n",
       "                        </div></th><th><div class=\"djtooltip\">\n",
       "                            <p id=\"primary\">filter_parameter_set_name</p>\n",
       "                            <span class=\"djtooltiptext\"></span>\n",
       "                        </div></th><th><div class=\"djtooltip\">\n",
       "                            <p id=\"primary\">sorter_name</p>\n",
       "                            <span class=\"djtooltiptext\">the name of the spike sorting algorithm</span>\n",
       "                        </div></th><th><div class=\"djtooltip\">\n",
       "                            <p id=\"primary\">spikesorter_parameter_set_name</p>\n",
       "                            <span class=\"djtooltiptext\">label for this set of parameters</span>\n",
       "                        </div></th><th><div class=\"djtooltip\">\n",
       "                            <p id=\"nonprimary\">import_path</p>\n",
       "                            <span class=\"djtooltiptext\">optional path to previous curated sorting output</span>\n",
       "                        </div> </th> </tr> </thead>\n",
       "            <tbody> <tr> <td>despereaux20191125_.nwb</td>\n",
       "<td>2</td>\n",
       "<td>test</td>\n",
       "<td>franklab_default_hippocampus</td>\n",
       "<td>mountainsort4</td>\n",
       "<td>franklab_tetrode_hippocampus_30KHz</td>\n",
       "<td></td> </tr> </tbody>\n",
       "        </table>\n",
       "        \n",
       "        <p>Total: 1</p></div>\n",
       "        "
      ],
      "text/plain": [
       "*nwb_file_name *sort_group_id *sort_interval *filter_parame *sorter_name   *spikesorter_p import_path   \n",
       "+------------+ +------------+ +------------+ +------------+ +------------+ +------------+ +------------+\n",
       "despereaux2019 2              test           franklab_defau mountainsort4  franklab_tetro               \n",
       " (Total: 1)"
      ]
     },
     "execution_count": 95,
     "metadata": {},
     "output_type": "execute_result"
    }
   ],
   "source": [
    "# inspect\n",
    "(SpikeSortingSelection & {'nwb_file_name' : nwb_file_name})"
   ]
  },
  {
   "cell_type": "markdown",
   "metadata": {},
   "source": [
    "#### Running spike sorting\n",
    "Now we can run spike sorting. As we said it's nothing more than populating another table (`SpikeSorting`) from the entries of `SpikeSortingParameters`."
   ]
  },
  {
   "cell_type": "code",
   "execution_count": 96,
   "metadata": {
    "tags": []
   },
   "outputs": [
    {
     "name": "stdout",
     "output_type": "stream",
     "text": [
      "\n",
      "Whitening recording...\n",
      "Elapsed time for whitening: 3.2801640033721924 sec\n",
      "\n",
      "Running spike sorting on {'nwb_file_name': 'despereaux20191125_.nwb', 'sort_group_id': 2, 'sort_interval_name': 'test', 'filter_parameter_set_name': 'franklab_default_hippocampus', 'sorter_name': 'mountainsort4', 'spikesorter_parameter_set_name': 'franklab_tetrode_hippocampus_30KHz'}...\n",
      "Using 4 workers.\n",
      "Using tmpdir: /tmp/tmprscjg03u\n",
      "Num. workers = 4\n",
      "Preparing /tmp/tmprscjg03u/timeseries.hdf5...\n",
      "Preparing neighborhood sorters (M=4, N=3000000)...\n",
      "Preparing output...\n",
      "Done with ms4alg.\n",
      "Cleaning tmpdir::::: /tmp/tmprscjg03u\n",
      "mountainsort4 run time 19.51s\n",
      "\n",
      "Saving sorting results...\n",
      "Adding sorting: S-ee3365308d96\n",
      "Writing new NWB file despereaux20191125_41XFEYA1XA.nwb\n",
      "\n",
      "Done - entry inserted to table.\n"
     ]
    }
   ],
   "source": [
    "# Specify entry (otherwise runs everything in SpikeSortingParameters)\n",
    "# `proj` gives you primary key\"\n",
    "SpikeSorting.populate([(SpikeSortingSelection & {'nwb_file_name' : nwb_file_name, 'sort_interval_name' : sort_interval_name}).proj()])"
   ]
  },
  {
   "cell_type": "code",
   "execution_count": 97,
   "metadata": {},
   "outputs": [],
   "source": [
    "#SpikeSortingWorkspace().url(key)"
   ]
  },
  {
   "cell_type": "markdown",
   "metadata": {},
   "source": [
    "#### Define quality metric parameters\n",
    "\n",
    "We're almost done. There are more parameters related to how to compute the quality metrics for curation. We just use the default options here. "
   ]
  },
  {
   "cell_type": "code",
   "execution_count": 98,
   "metadata": {},
   "outputs": [
    {
     "data": {
      "text/html": [
       "\n",
       "    \n",
       "    <style type=\"text/css\">\n",
       "        .Relation{\n",
       "            border-collapse:collapse;\n",
       "        }\n",
       "        .Relation th{\n",
       "            background: #A0A0A0; color: #ffffff; padding:4px; border:#f0e0e0 1px solid;\n",
       "            font-weight: normal; font-family: monospace; font-size: 100%;\n",
       "        }\n",
       "        .Relation td{\n",
       "            padding:4px; border:#f0e0e0 1px solid; font-size:100%;\n",
       "        }\n",
       "        .Relation tr:nth-child(odd){\n",
       "            background: #ffffff;\n",
       "        }\n",
       "        .Relation tr:nth-child(even){\n",
       "            background: #f3f1ff;\n",
       "        }\n",
       "        /* Tooltip container */\n",
       "        .djtooltip {\n",
       "        }\n",
       "        /* Tooltip text */\n",
       "        .djtooltip .djtooltiptext {\n",
       "            visibility: hidden;\n",
       "            width: 120px;\n",
       "            background-color: black;\n",
       "            color: #fff;\n",
       "            text-align: center;\n",
       "            padding: 5px 0;\n",
       "            border-radius: 6px;\n",
       "            /* Position the tooltip text - see examples below! */\n",
       "            position: absolute;\n",
       "            z-index: 1;\n",
       "        }\n",
       "        #primary {\n",
       "            font-weight: bold;\n",
       "            color: black;\n",
       "        }\n",
       "        #nonprimary {\n",
       "            font-weight: normal;\n",
       "            color: white;\n",
       "        }\n",
       "\n",
       "        /* Show the tooltip text when you mouse over the tooltip container */\n",
       "        .djtooltip:hover .djtooltiptext {\n",
       "            visibility: visible;\n",
       "        }\n",
       "    </style>\n",
       "    \n",
       "    <b>Table for holding the parameters for computing quality metrics</b>\n",
       "        <div style=\"max-height:1000px;max-width:1500px;overflow:auto;\">\n",
       "        <table border=\"1\" class=\"Relation\">\n",
       "            <thead> <tr style=\"text-align: right;\"> <th> <div class=\"djtooltip\">\n",
       "                            <p id=\"primary\">cluster_metrics_list_name</p>\n",
       "                            <span class=\"djtooltiptext\">the name for this list of cluster metrics</span>\n",
       "                        </div></th><th><div class=\"djtooltip\">\n",
       "                            <p id=\"nonprimary\">metric_dict</p>\n",
       "                            <span class=\"djtooltiptext\">dict of SpikeInterface metrics with True / False elements to indicate whether a given metric should be computed.</span>\n",
       "                        </div></th><th><div class=\"djtooltip\">\n",
       "                            <p id=\"nonprimary\">metric_parameter_dict</p>\n",
       "                            <span class=\"djtooltiptext\">dict of parameters for the metrics</span>\n",
       "                        </div> </th> </tr> </thead>\n",
       "            <tbody> <tr> <td>franklab_cluster_metrics_09-19-2021</td>\n",
       "<td>=BLOB=</td>\n",
       "<td>=BLOB=</td></tr><tr><td>franklab_default_cluster_metrics_tmp</td>\n",
       "<td>=BLOB=</td>\n",
       "<td>=BLOB=</td> </tr> </tbody>\n",
       "        </table>\n",
       "        \n",
       "        <p>Total: 2</p></div>\n",
       "        "
      ],
      "text/plain": [
       "*cluster_metri metric_dic metric_par\n",
       "+------------+ +--------+ +--------+\n",
       "franklab_clust =BLOB=     =BLOB=    \n",
       "franklab_defau =BLOB=     =BLOB=    \n",
       " (Total: 2)"
      ]
     },
     "execution_count": 98,
     "metadata": {},
     "output_type": "execute_result"
    }
   ],
   "source": [
    "SpikeSortingMetricParameters()"
   ]
  },
  {
   "cell_type": "code",
   "execution_count": 99,
   "metadata": {},
   "outputs": [],
   "source": [
    "metric_dict = SpikeSortingMetricParameters().get_metric_dict()\n",
    "metric_param_dict = SpikeSortingMetricParameters().get_metric_parameter_dict()"
   ]
  },
  {
   "cell_type": "code",
   "execution_count": 100,
   "metadata": {},
   "outputs": [
    {
     "name": "stdout",
     "output_type": "stream",
     "text": [
      "'num_spikes': False\n",
      "\n",
      "'firing_rate': False\n",
      "\n",
      "'presence_ratio': False\n",
      "\n",
      "'isi_violation': False\n",
      "\n",
      "'amplitude_cutoff': False\n",
      "\n",
      "'snr': False\n",
      "\n",
      "'max_drift': False\n",
      "\n",
      "'cumulative_drift': False\n",
      "\n",
      "'silhouette_score': False\n",
      "\n",
      "'isolation_distance': False\n",
      "\n",
      "'l_ratio': False\n",
      "\n",
      "'d_prime': False\n",
      "\n",
      "'noise_overlap': False\n",
      "\n",
      "'nn_hit_rate': False\n",
      "\n",
      "'nn_miss_rate': False\n",
      "\n"
     ]
    }
   ],
   "source": [
    "for k in metric_dict:\n",
    "    print(f\"'{k}': {metric_dict[k]}\\n\")"
   ]
  },
  {
   "cell_type": "code",
   "execution_count": 101,
   "metadata": {
    "tags": []
   },
   "outputs": [
    {
     "name": "stdout",
     "output_type": "stream",
     "text": [
      "'num_spikes': True\n",
      "\n",
      "'firing_rate': True\n",
      "\n",
      "'presence_ratio': False\n",
      "\n",
      "'isi_violation': False\n",
      "\n",
      "'amplitude_cutoff': False\n",
      "\n",
      "'snr': False\n",
      "\n",
      "'max_drift': False\n",
      "\n",
      "'cumulative_drift': False\n",
      "\n",
      "'silhouette_score': False\n",
      "\n",
      "'isolation_distance': False\n",
      "\n",
      "'l_ratio': False\n",
      "\n",
      "'d_prime': False\n",
      "\n",
      "'noise_overlap': True\n",
      "\n",
      "'nn_hit_rate': False\n",
      "\n",
      "'nn_miss_rate': False\n",
      "\n"
     ]
    }
   ],
   "source": [
    "metric_dict['noise_overlap'] = True\n",
    "metric_dict['firing_rate'] = True\n",
    "metric_dict['num_spikes'] = True\n",
    "for k in metric_dict:\n",
    "    print(f\"'{k}': {metric_dict[k]}\\n\")"
   ]
  },
  {
   "cell_type": "code",
   "execution_count": 102,
   "metadata": {
    "tags": []
   },
   "outputs": [],
   "source": [
    "cluster_metrics_list_name = 'franklab_cluster_metrics_09-19-2021'"
   ]
  },
  {
   "cell_type": "code",
   "execution_count": 103,
   "metadata": {
    "tags": []
   },
   "outputs": [],
   "source": [
    "#(SpikeSortingMetricParameters & {'cluster_metrics_list_name' : cluster_metrics_list_name}).delete()"
   ]
  },
  {
   "cell_type": "markdown",
   "metadata": {},
   "source": [
    "Add the cluster metrics to the table if they are not there already."
   ]
  },
  {
   "cell_type": "code",
   "execution_count": 104,
   "metadata": {
    "tags": []
   },
   "outputs": [],
   "source": [
    "SpikeSortingMetricParameters.insert1({'cluster_metrics_list_name' : cluster_metrics_list_name,\n",
    "                            'metric_dict' : metric_dict, \n",
    "                            'metric_parameter_dict' : metric_param_dict}, skip_duplicates=True)\n"
   ]
  },
  {
   "cell_type": "markdown",
   "metadata": {},
   "source": [
    "Add the default Automatic curation parameters"
   ]
  },
  {
   "cell_type": "code",
   "execution_count": 105,
   "metadata": {},
   "outputs": [],
   "source": [
    "param = AutomaticCurationParameters().get_default_parameters()\n",
    "AutomaticCurationParameters().insert1({'automatic_curation_parameter_set_name':'none', \n",
    "                                      'automatic_curation_parameter_dict': param}, skip_duplicates=True)"
   ]
  },
  {
   "cell_type": "markdown",
   "metadata": {},
   "source": [
    "Now add an entry to select those parameters for automatic curation of this recording"
   ]
  },
  {
   "cell_type": "code",
   "execution_count": 106,
   "metadata": {
    "tags": []
   },
   "outputs": [],
   "source": [
    "# first get the sorting ID\n",
    "acs_key = (SpikeSortingRecording & ssr_key).fetch1('KEY')\n",
    "acs_key['sorting_id'] = (SpikeSorting & ss_key).fetch1('sorting_id')\n",
    "acs_key['automatic_curation_parameter_set_name'] = 'none'\n",
    "acs_key['cluster_metrics_list_name'] = cluster_metrics_list_name\n",
    "AutomaticCurationSelection.insert1(acs_key, skip_duplicates=True)"
   ]
  },
  {
   "cell_type": "markdown",
   "metadata": {},
   "source": [
    "Now we populate the Autocuration table, which in this case just computes the metrics and does not add labels."
   ]
  },
  {
   "cell_type": "code",
   "execution_count": 107,
   "metadata": {},
   "outputs": [],
   "source": [
    "#AutomaticCuration.delete()"
   ]
  },
  {
   "cell_type": "code",
   "execution_count": 108,
   "metadata": {},
   "outputs": [
    {
     "name": "stdout",
     "output_type": "stream",
     "text": [
      " ▒▒▒▒▒▒▒▒▒▒▒▒▒▒▒▒▒▒▒▒▒▒▒▒▒▒▒▒▒▒▒▒▒▒▒▒▒▒▒▒ 100% \n",
      " ▒▒▒▒▒▒▒▒▒▒▒▒▒▒▒▒▒▒▒▒▒▒▒▒▒▒▒▒▒▒▒▒▒▒▒▒▒▒▒▒ 100% \n",
      "Number of chunks: 5 - Number of jobs: 24\n",
      " ▒▒▒▒▒▒▒▒▒▒▒▒▒▒▒▒▒▒▒▒▒▒▒▒▒▒▒▒▒▒▒▒▒▒▒▒▒▒▒▒ 100% \n",
      "Elapsed time for whitening and computing new quality metrics: 17.480809926986694 sec\n",
      "Writing new NWB file despereaux20191125_HDPIV0IUTC.nwb\n",
      "Setting unit metrics for sorting S-ee3365308d96\n"
     ]
    }
   ],
   "source": [
    "AutomaticCuration.populate(acs_key)"
   ]
  },
  {
   "cell_type": "markdown",
   "metadata": {},
   "source": [
    "We can now curate the recording using the figurl interface. To do so, we get the figurl link for this recording"
   ]
  },
  {
   "cell_type": "code",
   "execution_count": 109,
   "metadata": {},
   "outputs": [
    {
     "data": {
      "text/plain": [
       "'https://figurl.org/fig?channel=franklab2&figureObject=c7042954b0b12f7e24a0123a5dc003bb711fb8c4&label=despereaux20191125_.nwb_test_2'"
      ]
     },
     "execution_count": 109,
     "metadata": {},
     "output_type": "execute_result"
    }
   ],
   "source": [
    "SpikeSortingWorkspace().url(ssr_key)"
   ]
  },
  {
   "cell_type": "markdown",
   "metadata": {},
   "source": [
    "Once you're done with manual curation, you can add the units (with an optional new set of metrics) to the final CuratedSortingTable which includes only accepted units."
   ]
  },
  {
   "cell_type": "code",
   "execution_count": 110,
   "metadata": {},
   "outputs": [],
   "source": [
    "css_key = (AutomaticCuration & acs_key).fetch1('KEY')\n",
    "css_key['sorting_id']\n",
    "css_key['final_cluster_metrics_list_name'] = cluster_metrics_list_name\n",
    "CuratedSpikeSortingSelection.insert1(css_key, skip_duplicates=True)"
   ]
  },
  {
   "cell_type": "code",
   "execution_count": 111,
   "metadata": {},
   "outputs": [
    {
     "name": "stdout",
     "output_type": "stream",
     "text": [
      "Found 0 accepted units\n",
      "{'nwb_file_name': 'despereaux20191125_.nwb', 'sort_group_id': 2, 'sort_interval_name': 'test', 'filter_parameter_set_name': 'franklab_default_hippocampus', 'sorting_id': 'S-ee3365308d96'}: no curation found or no accepted units\n"
     ]
    }
   ],
   "source": [
    "CuratedSpikeSorting.populate(css_key)"
   ]
  },
  {
   "cell_type": "code",
   "execution_count": 112,
   "metadata": {},
   "outputs": [
    {
     "data": {
      "text/html": [
       "\n",
       "    \n",
       "    <style type=\"text/css\">\n",
       "        .Relation{\n",
       "            border-collapse:collapse;\n",
       "        }\n",
       "        .Relation th{\n",
       "            background: #A0A0A0; color: #ffffff; padding:4px; border:#f0e0e0 1px solid;\n",
       "            font-weight: normal; font-family: monospace; font-size: 100%;\n",
       "        }\n",
       "        .Relation td{\n",
       "            padding:4px; border:#f0e0e0 1px solid; font-size:100%;\n",
       "        }\n",
       "        .Relation tr:nth-child(odd){\n",
       "            background: #ffffff;\n",
       "        }\n",
       "        .Relation tr:nth-child(even){\n",
       "            background: #f3f1ff;\n",
       "        }\n",
       "        /* Tooltip container */\n",
       "        .djtooltip {\n",
       "        }\n",
       "        /* Tooltip text */\n",
       "        .djtooltip .djtooltiptext {\n",
       "            visibility: hidden;\n",
       "            width: 120px;\n",
       "            background-color: black;\n",
       "            color: #fff;\n",
       "            text-align: center;\n",
       "            padding: 5px 0;\n",
       "            border-radius: 6px;\n",
       "            /* Position the tooltip text - see examples below! */\n",
       "            position: absolute;\n",
       "            z-index: 1;\n",
       "        }\n",
       "        #primary {\n",
       "            font-weight: bold;\n",
       "            color: black;\n",
       "        }\n",
       "        #nonprimary {\n",
       "            font-weight: normal;\n",
       "            color: white;\n",
       "        }\n",
       "\n",
       "        /* Show the tooltip text when you mouse over the tooltip container */\n",
       "        .djtooltip:hover .djtooltiptext {\n",
       "            visibility: visible;\n",
       "        }\n",
       "    </style>\n",
       "    \n",
       "    <b>Table for holding sorted units</b>\n",
       "        <div style=\"max-height:1000px;max-width:1500px;overflow:auto;\">\n",
       "        <table border=\"1\" class=\"Relation\">\n",
       "            <thead> <tr style=\"text-align: right;\"> <th> <div class=\"djtooltip\">\n",
       "                            <p id=\"primary\">nwb_file_name</p>\n",
       "                            <span class=\"djtooltiptext\">name of the NWB file</span>\n",
       "                        </div></th><th><div class=\"djtooltip\">\n",
       "                            <p id=\"primary\">sort_group_id</p>\n",
       "                            <span class=\"djtooltiptext\">identifier for a group of electrodes</span>\n",
       "                        </div></th><th><div class=\"djtooltip\">\n",
       "                            <p id=\"primary\">sort_interval_name</p>\n",
       "                            <span class=\"djtooltiptext\">name for this interval</span>\n",
       "                        </div></th><th><div class=\"djtooltip\">\n",
       "                            <p id=\"primary\">filter_parameter_set_name</p>\n",
       "                            <span class=\"djtooltiptext\"></span>\n",
       "                        </div></th><th><div class=\"djtooltip\">\n",
       "                            <p id=\"primary\">sorting_id</p>\n",
       "                            <span class=\"djtooltiptext\">the sorting id of the sorting that was added</span>\n",
       "                        </div></th><th><div class=\"djtooltip\">\n",
       "                            <p id=\"primary\">unit_id</p>\n",
       "                            <span class=\"djtooltiptext\">ID for each unit</span>\n",
       "                        </div></th><th><div class=\"djtooltip\">\n",
       "                            <p id=\"nonprimary\">label</p>\n",
       "                            <span class=\"djtooltiptext\">optional label for each unit</span>\n",
       "                        </div></th><th><div class=\"djtooltip\">\n",
       "                            <p id=\"nonprimary\">noise_overlap</p>\n",
       "                            <span class=\"djtooltiptext\">noise overlap metric for each unit</span>\n",
       "                        </div></th><th><div class=\"djtooltip\">\n",
       "                            <p id=\"nonprimary\">nn_isolation</p>\n",
       "                            <span class=\"djtooltiptext\">isolation score metric for each unit</span>\n",
       "                        </div></th><th><div class=\"djtooltip\">\n",
       "                            <p id=\"nonprimary\">isi_violation</p>\n",
       "                            <span class=\"djtooltiptext\">ISI violation score for each unit</span>\n",
       "                        </div></th><th><div class=\"djtooltip\">\n",
       "                            <p id=\"nonprimary\">firing_rate</p>\n",
       "                            <span class=\"djtooltiptext\">firing rate</span>\n",
       "                        </div></th><th><div class=\"djtooltip\">\n",
       "                            <p id=\"nonprimary\">num_spikes</p>\n",
       "                            <span class=\"djtooltiptext\">total number of spikes</span>\n",
       "                        </div> </th> </tr> </thead>\n",
       "            <tbody> <tr>  </tr> </tbody>\n",
       "        </table>\n",
       "        \n",
       "        <p>Total: 0</p></div>\n",
       "        "
      ],
      "text/plain": [
       "*nwb_file_name *sort_group_id *sort_interval *filter_parame *sorting_id    *unit_id    label     noise_overlap  nn_isolation   isi_violation  firing_rate    num_spikes    \n",
       "+------------+ +------------+ +------------+ +------------+ +------------+ +---------+ +-------+ +------------+ +------------+ +------------+ +------------+ +------------+\n",
       "\n",
       " (Total: 0)"
      ]
     },
     "execution_count": 112,
     "metadata": {},
     "output_type": "execute_result"
    }
   ],
   "source": [
    "CuratedSpikeSorting.Unit()"
   ]
  },
  {
   "cell_type": "code",
   "execution_count": null,
   "metadata": {},
   "outputs": [],
   "source": []
  }
 ],
 "metadata": {
  "kernelspec": {
   "display_name": "Python [conda env:nwb_datajoint] *",
   "language": "python",
   "name": "conda-env-nwb_datajoint-py"
  },
  "language_info": {
   "codemirror_mode": {
    "name": "ipython",
    "version": 3
   },
   "file_extension": ".py",
   "mimetype": "text/x-python",
   "name": "python",
   "nbconvert_exporter": "python",
   "pygments_lexer": "ipython3",
   "version": "3.8.12"
  }
 },
 "nbformat": 4,
 "nbformat_minor": 4
}
